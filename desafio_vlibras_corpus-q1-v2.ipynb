{
 "cells": [
  {
   "cell_type": "code",
   "execution_count": 1,
   "metadata": {},
   "outputs": [],
   "source": [
    "import pandas as pd"
   ]
  },
  {
   "cell_type": "code",
   "execution_count": 53,
   "metadata": {},
   "outputs": [],
   "source": [
    "data = pd.read_csv('corpora/corpus-q1-v2.csv')"
   ]
  },
  {
   "cell_type": "code",
   "execution_count": 54,
   "metadata": {},
   "outputs": [
    {
     "data": {
      "text/html": [
       "<div>\n",
       "<style scoped>\n",
       "    .dataframe tbody tr th:only-of-type {\n",
       "        vertical-align: middle;\n",
       "    }\n",
       "\n",
       "    .dataframe tbody tr th {\n",
       "        vertical-align: top;\n",
       "    }\n",
       "\n",
       "    .dataframe thead th {\n",
       "        text-align: right;\n",
       "    }\n",
       "</style>\n",
       "<table border=\"1\" class=\"dataframe\">\n",
       "  <thead>\n",
       "    <tr style=\"text-align: right;\">\n",
       "      <th></th>\n",
       "      <th>gr</th>\n",
       "      <th>gi</th>\n",
       "    </tr>\n",
       "  </thead>\n",
       "  <tbody>\n",
       "    <tr>\n",
       "      <th>0</th>\n",
       "      <td>OBRIGAR POR  AJUDAR [PONTO]</td>\n",
       "      <td>OBRIGADO_AGRADECIMENTO 2S_AJUDAR_1S [PONTO]</td>\n",
       "    </tr>\n",
       "    <tr>\n",
       "      <th>1</th>\n",
       "      <td>OBRIGAR POR  AJUDAR [PONTO]</td>\n",
       "      <td>OBRIGADO_AGRADECIMENTO 2S_AJUDAR_1S [PONTO]</td>\n",
       "    </tr>\n",
       "    <tr>\n",
       "      <th>2</th>\n",
       "      <td>OBRIGAR POR  AJUDAR [PONTO]</td>\n",
       "      <td>OBRIGADO_AGRADECIMENTO 2S_AJUDAR_1S [PONTO]</td>\n",
       "    </tr>\n",
       "    <tr>\n",
       "      <th>3</th>\n",
       "      <td>PODER TE AJUDAR [INTERROGAÇÃO]</td>\n",
       "      <td>PODER_POSSIBILIDADE 1S_AJUDAR_2S [INTERROGAÇÃO]</td>\n",
       "    </tr>\n",
       "    <tr>\n",
       "      <th>4</th>\n",
       "      <td>CONTUDO EXISTIR FOTOGRAFIA TIRAR  DIA DEZENOVE...</td>\n",
       "      <td>CONTUDO EXISTIR FOTOGRAFIA DIA DEZENOVE OUTUBR...</td>\n",
       "    </tr>\n",
       "    <tr>\n",
       "      <th>5</th>\n",
       "      <td>OUVIR MÚSICO JOVEM GUARDA POIS ISSO   AJUDAR M...</td>\n",
       "      <td>OUVIR MÚSICA JOVEM GUARDA 1S_AJUDAR_2S CARREIR...</td>\n",
       "    </tr>\n",
       "    <tr>\n",
       "      <th>6</th>\n",
       "      <td>APÓS  DOAR SESMARIA SEU  CONSEQUENTE DIVISÃO U...</td>\n",
       "      <td>APÓS DOAÇÃO SESMARIA CONSEQUENTE DIVISÃO ANO_D...</td>\n",
       "    </tr>\n",
       "    <tr>\n",
       "      <th>7</th>\n",
       "      <td>SENADORA # DEMOCRATA BRASIL QUE CHEFIAR  COMIT...</td>\n",
       "      <td>SENADOR # DEMOCRATA BRASIL _PAÍS QUE PRESIDIR ...</td>\n",
       "    </tr>\n",
       "    <tr>\n",
       "      <th>8</th>\n",
       "      <td>PODER TE AJUDAR [INTERROGAÇÃO]</td>\n",
       "      <td>PODER_POSSIBILIDADE 1S_AJUDAR_2S [INTERROGAÇÃO]</td>\n",
       "    </tr>\n",
       "    <tr>\n",
       "      <th>9</th>\n",
       "      <td>PODER TE AJUDAR [INTERROGAÇÃO]</td>\n",
       "      <td>PODER_POSSIBILIDADE 1S_AJUDAR_2S [INTERROGAÇÃO]</td>\n",
       "    </tr>\n",
       "  </tbody>\n",
       "</table>\n",
       "</div>"
      ],
      "text/plain": [
       "                                                  gr  \\\n",
       "0                        OBRIGAR POR  AJUDAR [PONTO]   \n",
       "1                        OBRIGAR POR  AJUDAR [PONTO]   \n",
       "2                        OBRIGAR POR  AJUDAR [PONTO]   \n",
       "3                     PODER TE AJUDAR [INTERROGAÇÃO]   \n",
       "4  CONTUDO EXISTIR FOTOGRAFIA TIRAR  DIA DEZENOVE...   \n",
       "5  OUVIR MÚSICO JOVEM GUARDA POIS ISSO   AJUDAR M...   \n",
       "6  APÓS  DOAR SESMARIA SEU  CONSEQUENTE DIVISÃO U...   \n",
       "7  SENADORA # DEMOCRATA BRASIL QUE CHEFIAR  COMIT...   \n",
       "8                     PODER TE AJUDAR [INTERROGAÇÃO]   \n",
       "9                     PODER TE AJUDAR [INTERROGAÇÃO]   \n",
       "\n",
       "                                                  gi  \n",
       "0        OBRIGADO_AGRADECIMENTO 2S_AJUDAR_1S [PONTO]  \n",
       "1        OBRIGADO_AGRADECIMENTO 2S_AJUDAR_1S [PONTO]  \n",
       "2        OBRIGADO_AGRADECIMENTO 2S_AJUDAR_1S [PONTO]  \n",
       "3    PODER_POSSIBILIDADE 1S_AJUDAR_2S [INTERROGAÇÃO]  \n",
       "4  CONTUDO EXISTIR FOTOGRAFIA DIA DEZENOVE OUTUBR...  \n",
       "5  OUVIR MÚSICA JOVEM GUARDA 1S_AJUDAR_2S CARREIR...  \n",
       "6  APÓS DOAÇÃO SESMARIA CONSEQUENTE DIVISÃO ANO_D...  \n",
       "7  SENADOR # DEMOCRATA BRASIL _PAÍS QUE PRESIDIR ...  \n",
       "8    PODER_POSSIBILIDADE 1S_AJUDAR_2S [INTERROGAÇÃO]  \n",
       "9    PODER_POSSIBILIDADE 1S_AJUDAR_2S [INTERROGAÇÃO]  "
      ]
     },
     "execution_count": 54,
     "metadata": {},
     "output_type": "execute_result"
    }
   ],
   "source": [
    "data.head(10)"
   ]
  },
  {
   "cell_type": "code",
   "execution_count": 55,
   "metadata": {},
   "outputs": [
    {
     "data": {
      "text/plain": [
       "Index(['gr', 'gi'], dtype='object')"
      ]
     },
     "execution_count": 55,
     "metadata": {},
     "output_type": "execute_result"
    }
   ],
   "source": [
    "data.columns"
   ]
  },
  {
   "cell_type": "code",
   "execution_count": 56,
   "metadata": {},
   "outputs": [
    {
     "name": "stdout",
     "output_type": "stream",
     "text": [
      "<class 'pandas.core.frame.DataFrame'>\n",
      "RangeIndex: 21792 entries, 0 to 21791\n",
      "Data columns (total 2 columns):\n",
      " #   Column  Non-Null Count  Dtype \n",
      "---  ------  --------------  ----- \n",
      " 0   gr      21792 non-null  object\n",
      " 1   gi      21792 non-null  object\n",
      "dtypes: object(2)\n",
      "memory usage: 340.6+ KB\n"
     ]
    }
   ],
   "source": [
    "data.info()"
   ]
  },
  {
   "cell_type": "code",
   "execution_count": 57,
   "metadata": {},
   "outputs": [],
   "source": [
    "text1 = data['gr'][0]\n",
    "text2 = data['gi'][0]#texto edidato"
   ]
  },
  {
   "cell_type": "code",
   "execution_count": 58,
   "metadata": {},
   "outputs": [
    {
     "data": {
      "text/plain": [
       "'OBRIGAR POR  AJUDAR [PONTO]'"
      ]
     },
     "execution_count": 58,
     "metadata": {},
     "output_type": "execute_result"
    }
   ],
   "source": [
    "text1"
   ]
  },
  {
   "cell_type": "code",
   "execution_count": 59,
   "metadata": {},
   "outputs": [
    {
     "data": {
      "text/plain": [
       "'OBRIGADO_AGRADECIMENTO 2S_AJUDAR_1S [PONTO]'"
      ]
     },
     "execution_count": 59,
     "metadata": {},
     "output_type": "execute_result"
    }
   ],
   "source": [
    "text2"
   ]
  },
  {
   "cell_type": "markdown",
   "metadata": {},
   "source": [
    "### Importando regex engine"
   ]
  },
  {
   "cell_type": "code",
   "execution_count": 60,
   "metadata": {},
   "outputs": [],
   "source": [
    "#importando regex engine\n",
    "import re"
   ]
  },
  {
   "cell_type": "code",
   "execution_count": 90,
   "metadata": {},
   "outputs": [],
   "source": [
    "text1 = data['gr']\n",
    "text2 = data['gi']#texto edidato com Qualificadores E Quantificadores\n"
   ]
  },
  {
   "cell_type": "code",
   "execution_count": 91,
   "metadata": {},
   "outputs": [],
   "source": [
    "#pesquisando a presença de letras S ou P seguida de dígitos 1,2 ou 3 \n",
    "cont = 0\n",
    "target = '[S|P][1-3]'\n",
    "\n",
    "for i in range(len(text2)):\n",
    "    x = re.search(target,text2[i])\n",
    "    if(x != None):\n",
    "        cont+=1"
   ]
  },
  {
   "cell_type": "code",
   "execution_count": 92,
   "metadata": {},
   "outputs": [
    {
     "name": "stdout",
     "output_type": "stream",
     "text": [
      "0\n"
     ]
    }
   ],
   "source": [
    "# Não há preseça de letras no padrão \"<S ou P><Numero>__verbo__<S ou P><Numero>\"\n",
    "print(cont)"
   ]
  },
  {
   "cell_type": "markdown",
   "metadata": {},
   "source": [
    "### Script 01 corrijindo casos invertidos"
   ]
  },
  {
   "cell_type": "code",
   "execution_count": 277,
   "metadata": {},
   "outputs": [
    {
     "data": {
      "text/plain": [
       "'2P_PERGUNTAR_1S asdasd 2S_PERGUNTAR_1S'"
      ]
     },
     "execution_count": 277,
     "metadata": {},
     "output_type": "execute_result"
    }
   ],
   "source": [
    "#exemplo 01 de texto para script 01\n",
    "txt = 'P2_PERGUNTAR_S1 asdasd S2_PERGUNTAR_S1'#texto exemplo\n",
    "\n",
    "def inverted_cases(txt):\n",
    "    target = '[S|P][1-3]'\n",
    "    result_txt = txt\n",
    "    \n",
    "    result = re.findall(target,txt)\n",
    "\n",
    "    while(result != []): \n",
    "        new_txt = result[0][::-1]\n",
    "\n",
    "        result_txt = re.sub(result[0],new_txt,result_txt)\n",
    "        \n",
    "        result = re.findall(target,result_txt)\n",
    "        \n",
    "    #print('texto:',txt,'\\nE seu resultado:',result_txt)\n",
    "    return (result_txt)\n",
    "\n",
    "inverted_cases(txt)#exemplo"
   ]
  },
  {
   "cell_type": "markdown",
   "metadata": {},
   "source": [
    "### Script 02 simplificando múltiplos sinais '+"
   ]
  },
  {
   "cell_type": "code",
   "execution_count": 278,
   "metadata": {},
   "outputs": [
    {
     "data": {
      "text/plain": [
       "'algo(+)_blabla asdas (+)'"
      ]
     },
     "execution_count": 278,
     "metadata": {},
     "output_type": "execute_result"
    }
   ],
   "source": [
    "#exemplo 02 script 02\n",
    "txt = 'algo(++++++++)_blabla asdas (+++)'#texto exemplo\n",
    "\n",
    "def single_sinal(txt):\n",
    "    target = '[+]+'\n",
    "    result_txt = txt\n",
    "    \n",
    "    result = re.findall(target,txt)\n",
    "    \n",
    "    if(result != []):\n",
    "        new_txt = '+'\n",
    "        result_txt = re.sub(target,new_txt,txt)\n",
    "        #print('Texto:',txt,'\\nE seu resultado:',result_txt)\n",
    "    return (result_txt)\n",
    "    \n",
    "single_sinal(txt)#exemplo"
   ]
  },
  {
   "cell_type": "markdown",
   "metadata": {},
   "source": [
    "### Script 03 simplificando espaços multiplos"
   ]
  },
  {
   "cell_type": "code",
   "execution_count": 279,
   "metadata": {},
   "outputs": [
    {
     "data": {
      "text/plain": [
       "'ABELHA AMARELA_asdasd asasdasd a'"
      ]
     },
     "execution_count": 279,
     "metadata": {},
     "output_type": "execute_result"
    }
   ],
   "source": [
    "#exemplo 03 script 03 simplificando espaços multiplos\n",
    "txt = 'ABELHA    AMARELA_asdasd asasdasd   a'# exemplo\n",
    "\n",
    "def single_spaces(txt):\n",
    "    target = '\\s+'\n",
    "    result_txt = txt\n",
    "    \n",
    "    result = re.findall(target,txt)\n",
    "    \n",
    "    if(result != []):\n",
    "        new_txt = ' '\n",
    "\n",
    "        result_txt = re.sub(target,new_txt,txt)\n",
    "        #print('Texto:',txt,'\\nE seu resultado:',result_txt)\n",
    "    return (result_txt)\n",
    "\n",
    "single_spaces(txt)#exemplo"
   ]
  },
  {
   "cell_type": "markdown",
   "metadata": {},
   "source": [
    "### Script 04 removendo hífen '-'  entre dígitos"
   ]
  },
  {
   "cell_type": "code",
   "execution_count": 280,
   "metadata": {},
   "outputs": [
    {
     "data": {
      "text/plain": [
       "'2233----a44'"
      ]
     },
     "execution_count": 280,
     "metadata": {},
     "output_type": "execute_result"
    }
   ],
   "source": [
    "#exemplo 04 script 04 removendo hífen '-'\n",
    "txt = '2-2-33----a4-4'#\n",
    "\n",
    "def remove_h(txt):\n",
    "    target = '\\d+-+\\d'\n",
    "\n",
    "    result_search = re.findall(target,txt)\n",
    "\n",
    "    result_txt = txt\n",
    "\n",
    "    while(result_search!=[]):\n",
    "        new_txt = re.sub('-','',result_search[0])\n",
    "\n",
    "        result_txt = re.sub(result_search[0],new_txt,result_txt)\n",
    "\n",
    "        result_search = re.findall(target,result_txt)\n",
    "\n",
    "    #print('Texto:',txt,'\\nE seu resultado:',result_txt)\n",
    "    return(result_txt)\n",
    "\n",
    "remove_h(txt)#exemplo\n",
    "    "
   ]
  },
  {
   "cell_type": "markdown",
   "metadata": {},
   "source": [
    "### Script 05 removendo espaços incorretamente inseridos antes de qualificadores de local"
   ]
  },
  {
   "cell_type": "code",
   "execution_count": 281,
   "metadata": {},
   "outputs": [
    {
     "data": {
      "text/plain": [
       "'\"IR RECIFE_ESTADO BBB_CIDADE'"
      ]
     },
     "execution_count": 281,
     "metadata": {},
     "output_type": "execute_result"
    }
   ],
   "source": [
    "#exemplo 05 script 05 \n",
    "txt = '\"IR RECIFE   _ESTADO BBB   _CIDADE'#\n",
    "def remove_space_local(txt):\n",
    "    target = '\\s+_CIDADE|\\s+_ESTADO|\\s+_PAÍS'#'[\\s+_[CIDADE|ESTADO|PAÍS]]'\n",
    "    result_txt = txt\n",
    "\n",
    "    result = re.findall(target,txt)\n",
    "    \n",
    "    while(result != []):\n",
    "        new_txt = re.sub('\\s+','',result[0])\n",
    "\n",
    "        result_txt = re.sub(result[0],new_txt,result_txt)\n",
    "        \n",
    "        result = re.findall(target,result_txt)\n",
    "        \n",
    "    #print('Texto:',txt,'\\nE seu resultado:',result_txt)\n",
    "    return(result_txt) \n",
    "    \n",
    "remove_space_local(txt)#exemplo"
   ]
  },
  {
   "cell_type": "markdown",
   "metadata": {},
   "source": [
    "### Script 06  removendo espaços incorretamente inseridos antes de qualificadores direcionais na direita"
   ]
  },
  {
   "cell_type": "code",
   "execution_count": 283,
   "metadata": {},
   "outputs": [
    {
     "data": {
      "text/plain": [
       "'1S_DAR_3P  1P_DAR_1S'"
      ]
     },
     "execution_count": 283,
     "metadata": {},
     "output_type": "execute_result"
    }
   ],
   "source": [
    "#exemplo 06 script 06 \n",
    "txt = '1S_DAR _3P  1P_DAR _1S'#\n",
    "def remove_space_right(txt):\n",
    "    target = '\\s+_[1-3][S|P]'\n",
    "    result_txt = txt\n",
    "\n",
    "    result = re.findall(target,txt)\n",
    "\n",
    "    while (result != []):\n",
    "\n",
    "        new_txt = re.sub('\\s','',result[0])\n",
    "\n",
    "        result_txt = re.sub(result[0],new_txt,result_txt)\n",
    "\n",
    "        result = re.findall(target,result_txt)\n",
    "\n",
    "    return(result_txt)\n",
    "\n",
    "remove_space_right(txt)"
   ]
  },
  {
   "cell_type": "markdown",
   "metadata": {},
   "source": [
    "### Script 07 adicionando espaços após os qualificadores direcionais pela esquerda"
   ]
  },
  {
   "cell_type": "code",
   "execution_count": 284,
   "metadata": {},
   "outputs": [
    {
     "data": {
      "text/plain": [
       "'1S_ DAR_3P 1P_ DAR_3P'"
      ]
     },
     "execution_count": 284,
     "metadata": {},
     "output_type": "execute_result"
    }
   ],
   "source": [
    "#exemplo 07 script 07 \n",
    "txt = '1S_DAR_3P 1P_DAR_3P'\n",
    "\n",
    "def add_space_right(txt):\n",
    "    target = '([1-3][S|P]_)\\w'\n",
    "    result_txt = txt\n",
    "\n",
    "    result_search = re.findall(target,txt)\n",
    "    \n",
    "    while(result_search != []):\n",
    "\n",
    "        new_txt = re.sub(result_search[0],result_search[0]+' ',result_search[0])\n",
    "        \n",
    "        result_txt = re.sub(result_search[0],new_txt,result_txt)\n",
    "\n",
    "        result_search = re.findall(target,result_txt)\n",
    "\n",
    "    #print('Texto:',txt,'\\nE seu resultado:',result_txt)\n",
    "    return(result_txt)\n",
    "\n",
    "add_space_right(txt)"
   ]
  },
  {
   "cell_type": "markdown",
   "metadata": {},
   "source": [
    "### Script 08 removendo os espaços à esquerda dos qualificadores de intensidade"
   ]
  },
  {
   "cell_type": "code",
   "execution_count": 253,
   "metadata": {},
   "outputs": [
    {
     "data": {
      "text/plain": [
       "'AMAR(+) AMAR(-)'"
      ]
     },
     "execution_count": 253,
     "metadata": {},
     "output_type": "execute_result"
    }
   ],
   "source": [
    "#exemplo 08 script 08 \n",
    "txt = 'AMAR (+) AMAR   (-)'\n",
    "def remove_space_left(txt):\n",
    "    \n",
    "    target = '\\s+\\(\\++\\)|\\s+\\(\\-+\\)'\n",
    "\n",
    "    result_search = re.findall(target,txt)\n",
    "\n",
    "    result_txt = txt\n",
    "\n",
    "    while(result_search != []):\n",
    "        new_txt = re.sub('\\s+','',result_search[0])\n",
    "\n",
    "        result_txt = re.sub('\\s+\\(\\{0}+\\)'.format(new_txt[1]),new_txt,result_txt)\n",
    "\n",
    "        result_search = re.findall(target,result_txt)\n",
    "\n",
    "    #print('Texto:',txt,'\\nE seu resultado:',result_txt)\n",
    "    return(result_txt)\n",
    "remove_space_left(txt)"
   ]
  },
  {
   "cell_type": "markdown",
   "metadata": {},
   "source": [
    "### Script 09 substituindo NÃO por _"
   ]
  },
  {
   "cell_type": "code",
   "execution_count": 261,
   "metadata": {},
   "outputs": [
    {
     "data": {
      "text/plain": [
       "'NÃO_GOSTAR NÃO_GOSTAR '"
      ]
     },
     "execution_count": 261,
     "metadata": {},
     "output_type": "execute_result"
    }
   ],
   "source": [
    "txt = 'NÃO GOSTAR NÃO GOSTAR '\n",
    "def subs_not(txt):\n",
    "    target = 'NÃO\\s+'\n",
    "    \n",
    "    result_txt = txt\n",
    "\n",
    "    result_search = re.findall(target,txt)\n",
    "    \n",
    "    if(result_search!= []):\n",
    "        new_txt = re.sub('\\s+','_',result_search[0])\n",
    "        \n",
    "        result_txt = re.sub(target,new_txt,result_txt)\n",
    "\n",
    "        #print('Texto:',txt,'\\nE seu resultado:',result_txt)\n",
    "    return(result_txt)\n",
    "subs_not(txt)"
   ]
  },
  {
   "cell_type": "markdown",
   "metadata": {},
   "source": [
    "### Script 10 & no lugar de \"_\"FAMOSO ou \"_\"FAMOSA"
   ]
  },
  {
   "cell_type": "code",
   "execution_count": 271,
   "metadata": {},
   "outputs": [
    {
     "data": {
      "text/plain": [
       "'ALBERT_EINSTEIN&FAMOSO ALBERT_EINSTEIN&FAMOSA'"
      ]
     },
     "execution_count": 271,
     "metadata": {},
     "output_type": "execute_result"
    }
   ],
   "source": [
    "txt = 'ALBERT_EINSTEIN_FAMOSO ALBERT_EINSTEIN_FAMOSA'\n",
    "def famoso(txt):\n",
    "    \n",
    "    target= '_FAMOSO|_FAMOSA'\n",
    "\n",
    "    result_txt = txt\n",
    "\n",
    "    result_search = re.findall(target,txt)\n",
    "    while(result_search != []):\n",
    "        \n",
    "        new_txt = re.sub('_','&',result_search[0])\n",
    "        \n",
    "        result_txt = re.sub(result_search[0],new_txt,result_txt)\n",
    "\n",
    "        result_search = re.findall(target,result_txt)\n",
    "        \n",
    "    return(result_txt)\n",
    "famoso(txt)"
   ]
  },
  {
   "cell_type": "markdown",
   "metadata": {},
   "source": [
    "### Script 11 removendo todos os pontos que não pertençam a um número decimal"
   ]
  },
  {
   "cell_type": "code",
   "execution_count": 275,
   "metadata": {},
   "outputs": [
    {
     "data": {
      "text/plain": [
       "'IR ONTEM BANCO AA BANCO'"
      ]
     },
     "execution_count": 275,
     "metadata": {},
     "output_type": "execute_result"
    }
   ],
   "source": [
    "txt = 'IR. ONTEM. BANCO AA. BANCO'\n",
    "def remove_point(txt):\n",
    "    target= '\\w+\\.|\\.\\w+'\n",
    "\n",
    "    result_txt = txt\n",
    "\n",
    "    result_search = re.findall(target,txt)\n",
    "\n",
    "    while(result_search != []):\n",
    "        new_txt = re.sub('\\.','',result_search[0])\n",
    "\n",
    "        result_txt = re.sub(result_search[0],new_txt,result_txt)\n",
    "\n",
    "        result_search = re.findall(target,result_txt)\n",
    "    return(result_txt)\n",
    "remove_point(txt)"
   ]
  },
  {
   "cell_type": "markdown",
   "metadata": {},
   "source": [
    "### Script 12 o 0 implícito em números decimais"
   ]
  },
  {
   "cell_type": "code",
   "execution_count": 276,
   "metadata": {},
   "outputs": [
    {
     "data": {
      "text/plain": [
       "'PAGAR 0.72 PAGAR    0.55\"'"
      ]
     },
     "execution_count": 276,
     "metadata": {},
     "output_type": "execute_result"
    }
   ],
   "source": [
    "txt = 'PAGAR .72 PAGAR    .55\"'\n",
    "def zero(txt):\n",
    "    target= '\\s\\.\\d+'\n",
    "\n",
    "    result_txt = txt\n",
    "\n",
    "    result_search = re.findall(target,txt)\n",
    "\n",
    "    while(result_search != []):\n",
    "        new_txt = re.sub('\\.','0.',result_search[0])\n",
    "\n",
    "        result_txt = re.sub(result_search[0],new_txt,result_txt)\n",
    "\n",
    "        result_search = re.findall(target,result_txt)\n",
    "    return(result_txt)\n",
    "zero(txt)"
   ]
  },
  {
   "cell_type": "markdown",
   "metadata": {},
   "source": [
    "### Tratando o data frame"
   ]
  },
  {
   "cell_type": "code",
   "execution_count": 285,
   "metadata": {},
   "outputs": [],
   "source": [
    "n = len(text1)\n",
    "\n",
    "for i in range(n):\n",
    "    #corrijindo casos invertidos\n",
    "    inverted_cases(text1[i])\n",
    "    inverted_cases(text2[i])\n",
    "    \n",
    "    #simplificando múltiplos sinais '+'\n",
    "    single_sinal(text1[i])\n",
    "    single_sinal(text2[i])\n",
    "    \n",
    "    #simplificando espaços multiplos\n",
    "    single_spaces(text1[i])\n",
    "    single_spaces(text2[i])\n",
    "    \n",
    "    #removendo hífen '-' entre dígitos\n",
    "    remove_h(text1[i])\n",
    "    remove_h(text2[i])\n",
    "    \n",
    "    #removendo espaços incorretamente inseridos antes de qualificadores de local\n",
    "    remove_space_local(text1[i])\n",
    "    remove_space_local(text2[i])\n",
    "    \n",
    "    #removendo espaços incorretamente inseridos antes de qualificadores direcionais na direita\n",
    "    remove_space_right(text1[i])\n",
    "    remove_space_right(text2[i])\n",
    "    \n",
    "    #adicionando espaços após os qualificadores direcionais pela esquerda\n",
    "    add_space_right(text1[i])\n",
    "    add_space_right(text2[i])\n",
    "    \n",
    "    #removendo os espaços à esquerda dos qualificadores de intensidade\n",
    "    remove_space_left(text1[i])\n",
    "    remove_space_left(text2[i])\n",
    "    \n",
    "    #substituindo NÃO por _\n",
    "    subs_not(text1[i])\n",
    "    subs_not(text2[i])\n",
    "    \n",
    "    #& no lugar de \"_\"FAMOSO ou \"_\"FAMOSA\n",
    "    famoso(text1[i])\n",
    "    famoso(text2[i])\n",
    "    \n",
    "    #removendo todos os pontos que não pertençam a um número decimal\n",
    "    remove_point(text1[i])\n",
    "    remove_point(text2[i])\n",
    "    \n",
    "    #12 o 0 implícito em números decimais\n",
    "    zero(text2[i])\n",
    "    zero(text2[i])"
   ]
  },
  {
   "cell_type": "code",
   "execution_count": 286,
   "metadata": {},
   "outputs": [
    {
     "data": {
      "text/plain": [
       "0                          OBRIGAR POR  AJUDAR [PONTO]\n",
       "1                          OBRIGAR POR  AJUDAR [PONTO]\n",
       "2                          OBRIGAR POR  AJUDAR [PONTO]\n",
       "3                       PODER TE AJUDAR [INTERROGAÇÃO]\n",
       "4    CONTUDO EXISTIR FOTOGRAFIA TIRAR  DIA DEZENOVE...\n",
       "Name: gr, dtype: object"
      ]
     },
     "execution_count": 286,
     "metadata": {},
     "output_type": "execute_result"
    }
   ],
   "source": [
    "text1.head()"
   ]
  },
  {
   "cell_type": "code",
   "execution_count": 287,
   "metadata": {},
   "outputs": [
    {
     "data": {
      "text/plain": [
       "0          OBRIGADO_AGRADECIMENTO 2S_AJUDAR_1S [PONTO]\n",
       "1          OBRIGADO_AGRADECIMENTO 2S_AJUDAR_1S [PONTO]\n",
       "2          OBRIGADO_AGRADECIMENTO 2S_AJUDAR_1S [PONTO]\n",
       "3      PODER_POSSIBILIDADE 1S_AJUDAR_2S [INTERROGAÇÃO]\n",
       "4    CONTUDO EXISTIR FOTOGRAFIA DIA DEZENOVE OUTUBR...\n",
       "Name: gi, dtype: object"
      ]
     },
     "execution_count": 287,
     "metadata": {},
     "output_type": "execute_result"
    }
   ],
   "source": [
    "text2.head()"
   ]
  },
  {
   "cell_type": "code",
   "execution_count": 289,
   "metadata": {},
   "outputs": [],
   "source": [
    "data['gr'] = text1\n",
    "data['gi'] = text2"
   ]
  },
  {
   "cell_type": "code",
   "execution_count": 290,
   "metadata": {},
   "outputs": [
    {
     "data": {
      "text/html": [
       "<div>\n",
       "<style scoped>\n",
       "    .dataframe tbody tr th:only-of-type {\n",
       "        vertical-align: middle;\n",
       "    }\n",
       "\n",
       "    .dataframe tbody tr th {\n",
       "        vertical-align: top;\n",
       "    }\n",
       "\n",
       "    .dataframe thead th {\n",
       "        text-align: right;\n",
       "    }\n",
       "</style>\n",
       "<table border=\"1\" class=\"dataframe\">\n",
       "  <thead>\n",
       "    <tr style=\"text-align: right;\">\n",
       "      <th></th>\n",
       "      <th>gr</th>\n",
       "      <th>gi</th>\n",
       "    </tr>\n",
       "  </thead>\n",
       "  <tbody>\n",
       "    <tr>\n",
       "      <th>0</th>\n",
       "      <td>OBRIGAR POR  AJUDAR [PONTO]</td>\n",
       "      <td>OBRIGADO_AGRADECIMENTO 2S_AJUDAR_1S [PONTO]</td>\n",
       "    </tr>\n",
       "    <tr>\n",
       "      <th>1</th>\n",
       "      <td>OBRIGAR POR  AJUDAR [PONTO]</td>\n",
       "      <td>OBRIGADO_AGRADECIMENTO 2S_AJUDAR_1S [PONTO]</td>\n",
       "    </tr>\n",
       "    <tr>\n",
       "      <th>2</th>\n",
       "      <td>OBRIGAR POR  AJUDAR [PONTO]</td>\n",
       "      <td>OBRIGADO_AGRADECIMENTO 2S_AJUDAR_1S [PONTO]</td>\n",
       "    </tr>\n",
       "    <tr>\n",
       "      <th>3</th>\n",
       "      <td>PODER TE AJUDAR [INTERROGAÇÃO]</td>\n",
       "      <td>PODER_POSSIBILIDADE 1S_AJUDAR_2S [INTERROGAÇÃO]</td>\n",
       "    </tr>\n",
       "    <tr>\n",
       "      <th>4</th>\n",
       "      <td>CONTUDO EXISTIR FOTOGRAFIA TIRAR  DIA DEZENOVE...</td>\n",
       "      <td>CONTUDO EXISTIR FOTOGRAFIA DIA DEZENOVE OUTUBR...</td>\n",
       "    </tr>\n",
       "  </tbody>\n",
       "</table>\n",
       "</div>"
      ],
      "text/plain": [
       "                                                  gr  \\\n",
       "0                        OBRIGAR POR  AJUDAR [PONTO]   \n",
       "1                        OBRIGAR POR  AJUDAR [PONTO]   \n",
       "2                        OBRIGAR POR  AJUDAR [PONTO]   \n",
       "3                     PODER TE AJUDAR [INTERROGAÇÃO]   \n",
       "4  CONTUDO EXISTIR FOTOGRAFIA TIRAR  DIA DEZENOVE...   \n",
       "\n",
       "                                                  gi  \n",
       "0        OBRIGADO_AGRADECIMENTO 2S_AJUDAR_1S [PONTO]  \n",
       "1        OBRIGADO_AGRADECIMENTO 2S_AJUDAR_1S [PONTO]  \n",
       "2        OBRIGADO_AGRADECIMENTO 2S_AJUDAR_1S [PONTO]  \n",
       "3    PODER_POSSIBILIDADE 1S_AJUDAR_2S [INTERROGAÇÃO]  \n",
       "4  CONTUDO EXISTIR FOTOGRAFIA DIA DEZENOVE OUTUBR...  "
      ]
     },
     "execution_count": 290,
     "metadata": {},
     "output_type": "execute_result"
    }
   ],
   "source": [
    "data.head()"
   ]
  },
  {
   "cell_type": "markdown",
   "metadata": {},
   "source": [
    "### Salvando o data frame modificado\n"
   ]
  },
  {
   "cell_type": "code",
   "execution_count": 300,
   "metadata": {},
   "outputs": [],
   "source": [
    "data.to_csv('corpus-respostas/corpus-q1-resposta.csv',index=False)"
   ]
  },
  {
   "cell_type": "code",
   "execution_count": 301,
   "metadata": {},
   "outputs": [],
   "source": [
    "res = pd.read_csv('corpus-respostas/corpus-q1-resposta.csv')"
   ]
  },
  {
   "cell_type": "code",
   "execution_count": 302,
   "metadata": {},
   "outputs": [
    {
     "data": {
      "text/html": [
       "<div>\n",
       "<style scoped>\n",
       "    .dataframe tbody tr th:only-of-type {\n",
       "        vertical-align: middle;\n",
       "    }\n",
       "\n",
       "    .dataframe tbody tr th {\n",
       "        vertical-align: top;\n",
       "    }\n",
       "\n",
       "    .dataframe thead th {\n",
       "        text-align: right;\n",
       "    }\n",
       "</style>\n",
       "<table border=\"1\" class=\"dataframe\">\n",
       "  <thead>\n",
       "    <tr style=\"text-align: right;\">\n",
       "      <th></th>\n",
       "      <th>gr</th>\n",
       "      <th>gi</th>\n",
       "    </tr>\n",
       "  </thead>\n",
       "  <tbody>\n",
       "    <tr>\n",
       "      <th>0</th>\n",
       "      <td>OBRIGAR POR  AJUDAR [PONTO]</td>\n",
       "      <td>OBRIGADO_AGRADECIMENTO 2S_AJUDAR_1S [PONTO]</td>\n",
       "    </tr>\n",
       "    <tr>\n",
       "      <th>1</th>\n",
       "      <td>OBRIGAR POR  AJUDAR [PONTO]</td>\n",
       "      <td>OBRIGADO_AGRADECIMENTO 2S_AJUDAR_1S [PONTO]</td>\n",
       "    </tr>\n",
       "    <tr>\n",
       "      <th>2</th>\n",
       "      <td>OBRIGAR POR  AJUDAR [PONTO]</td>\n",
       "      <td>OBRIGADO_AGRADECIMENTO 2S_AJUDAR_1S [PONTO]</td>\n",
       "    </tr>\n",
       "    <tr>\n",
       "      <th>3</th>\n",
       "      <td>PODER TE AJUDAR [INTERROGAÇÃO]</td>\n",
       "      <td>PODER_POSSIBILIDADE 1S_AJUDAR_2S [INTERROGAÇÃO]</td>\n",
       "    </tr>\n",
       "    <tr>\n",
       "      <th>4</th>\n",
       "      <td>CONTUDO EXISTIR FOTOGRAFIA TIRAR  DIA DEZENOVE...</td>\n",
       "      <td>CONTUDO EXISTIR FOTOGRAFIA DIA DEZENOVE OUTUBR...</td>\n",
       "    </tr>\n",
       "  </tbody>\n",
       "</table>\n",
       "</div>"
      ],
      "text/plain": [
       "                                                  gr  \\\n",
       "0                        OBRIGAR POR  AJUDAR [PONTO]   \n",
       "1                        OBRIGAR POR  AJUDAR [PONTO]   \n",
       "2                        OBRIGAR POR  AJUDAR [PONTO]   \n",
       "3                     PODER TE AJUDAR [INTERROGAÇÃO]   \n",
       "4  CONTUDO EXISTIR FOTOGRAFIA TIRAR  DIA DEZENOVE...   \n",
       "\n",
       "                                                  gi  \n",
       "0        OBRIGADO_AGRADECIMENTO 2S_AJUDAR_1S [PONTO]  \n",
       "1        OBRIGADO_AGRADECIMENTO 2S_AJUDAR_1S [PONTO]  \n",
       "2        OBRIGADO_AGRADECIMENTO 2S_AJUDAR_1S [PONTO]  \n",
       "3    PODER_POSSIBILIDADE 1S_AJUDAR_2S [INTERROGAÇÃO]  \n",
       "4  CONTUDO EXISTIR FOTOGRAFIA DIA DEZENOVE OUTUBR...  "
      ]
     },
     "execution_count": 302,
     "metadata": {},
     "output_type": "execute_result"
    }
   ],
   "source": [
    "res.head()"
   ]
  }
 ],
 "metadata": {
  "kernelspec": {
   "display_name": "Python 3",
   "language": "python",
   "name": "python3"
  },
  "language_info": {
   "codemirror_mode": {
    "name": "ipython",
    "version": 3
   },
   "file_extension": ".py",
   "mimetype": "text/x-python",
   "name": "python",
   "nbconvert_exporter": "python",
   "pygments_lexer": "ipython3",
   "version": "3.7.0"
  }
 },
 "nbformat": 4,
 "nbformat_minor": 4
}
